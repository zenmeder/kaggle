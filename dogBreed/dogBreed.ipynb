{
 "cells": [
  {
   "cell_type": "code",
   "execution_count": 45,
   "metadata": {
    "collapsed": true
   },
   "outputs": [],
   "source": [
    "#!/usr/local/bin/ python3\n",
    "# -*- coding:utf-8 -*-\n",
    "# __author__ = \"zenmeder\"\n",
    "\n",
    "import numpy as np\n",
    "import pandas as pd\n",
    "from PIL import Image\n",
    "\n",
    "labels = pd.read_csv('./dogBreed/labels.csv')\n",
    "labels = {_[0]:_[1] for _ in labels.values}\n",
    "import subprocess\n",
    "pictures = subprocess.check_output(['ls','./dogBreed/train']).decode('utf-8').split('\\n')\n",
    "X,y = [], []"
   ]
  },
  {
   "cell_type": "code",
   "execution_count": 30,
   "metadata": {},
   "outputs": [
    {
     "name": "stdout",
     "output_type": "stream",
     "text": [
      "<class 'numpy.ndarray'> (375, 500, 3)\n"
     ]
    }
   ],
   "source": [
    "a = np.array(Image.open('./dogBreed/train/{0}'.format(pictures[0])))\n",
    "print(type(a),a.shape)"
   ]
  },
  {
   "cell_type": "code",
   "execution_count": 46,
   "metadata": {
    "collapsed": true
   },
   "outputs": [],
   "source": [
    "for picture in pictures:\n",
    "    if picture:\n",
    "        a = np.array(Image.open('./dogBreed/train/{0}'.format(picture)))\n",
    "        X.append(a)\n",
    "        y.append(labels[picture[:-4]])"
   ]
  },
  {
   "cell_type": "code",
   "execution_count": 47,
   "metadata": {},
   "outputs": [
    {
     "name": "stdout",
     "output_type": "stream",
     "text": [
      "10222 10222\n"
     ]
    }
   ],
   "source": [
    "print(len(X), len(y))"
   ]
  },
  {
   "cell_type": "code",
   "execution_count": 48,
   "metadata": {
    "collapsed": true
   },
   "outputs": [
    {
     "name": "stdout",
     "output_type": "stream",
     "text": [
      "(375, 500, 3)\n(375, 500, 3)\n(375, 500, 3)\n(344, 400, 3)\n(500, 500, 3)\n(375, 500, 3)\n(470, 500, 3)\n(227, 231, 3)\n(500, 474, 3)\n(332, 500, 3)\n(500, 375, 3)\n(343, 402, 3)\n(299, 500, 3)\n(223, 250, 3)\n(332, 500, 3)\n(192, 200, 3)\n(212, 374, 3)\n(500, 333, 3)\n(375, 500, 3)\n(160, 160, 3)\n(375, 500, 3)\n(320, 390, 3)\n(346, 400, 3)\n(210, 291, 3)\n(280, 200, 3)\n(375, 500, 3)\n(500, 375, 3)\n(333, 500, 3)\n(257, 300, 3)\n(375, 500, 3)\n(338, 450, 3)\n(500, 375, 3)\n(375, 500, 3)\n(500, 443, 3)\n(407, 594, 3)\n(1200, 1600, 3)\n(375, 500, 3)\n(332, 500, 3)\n(500, 375, 3)\n(361, 500, 3)\n(293, 400, 3)\n(375, 500, 3)\n(257, 350, 3)\n(500, 401, 3)\n(333, 500, 3)\n(375, 500, 3)\n(500, 500, 3)\n(375, 500, 3)\n(375, 500, 3)\n(333, 500, 3)\n(240, 320, 3)\n(375, 500, 3)\n(288, 288, 3)\n(375, 500, 3)\n(332, 350, 3)\n(375, 500, 3)\n(208, 300, 3)\n(315, 360, 3)\n(375, 500, 3)\n(500, 375, 3)\n(500, 337, 3)\n(280, 200, 3)\n(500, 500, 3)\n(350, 327, 3)\n(358, 500, 3)\n(500, 405, 3)\n(375, 500, 3)\n(333, 500, 3)\n(329, 500, 3)\n(375, 500, 3)\n(375, 500, 3)\n(333, 500, 3)\n(375, 500, 3)\n(333, 500, 3)\n(375, 500, 3)\n(500, 334, 3)\n(333, 500, 3)\n(375, 500, 3)\n(500, 500, 3)\n(443, 450, 3)\n(150, 300, 3)\n(337, 360, 3)\n(294, 500, 3)\n(350, 500, 3)\n(375, 500, 3)\n(375, 500, 3)\n(334, 500, 3)\n(390, 500, 3)\n(500, 375, 3)\n(375, 500, 3)\n(375, 500, 3)\n(375, 500, 3)\n(375, 500, 3)\n(500, 375, 3)\n(375, 500, 3)\n(500, 375, 3)\n(266, 400, 3)\n(360, 500, 3)\n(375, 500, 3)\n(378, 500, 3)\n"
     ]
    }
   ],
   "source": [
    "from skimage.transform import resize\n",
    "for i in range(len(X)):\n",
    "    X[i] = resize(X[i],(375,500,3))"
   ]
  },
  {
   "cell_type": "code",
   "execution_count": null,
   "metadata": {},
   "outputs": [],
   "source": [
    ""
   ]
  }
 ],
 "metadata": {
  "kernelspec": {
   "display_name": "Python 2",
   "language": "python",
   "name": "python2"
  },
  "language_info": {
   "codemirror_mode": {
    "name": "ipython",
    "version": 2.0
   },
   "file_extension": ".py",
   "mimetype": "text/x-python",
   "name": "python",
   "nbconvert_exporter": "python",
   "pygments_lexer": "ipython2",
   "version": "2.7.6"
  }
 },
 "nbformat": 4,
 "nbformat_minor": 0
}